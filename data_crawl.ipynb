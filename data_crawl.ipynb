{
 "cells": [
  {
   "cell_type": "code",
   "execution_count": 1,
   "id": "ff774ad5",
   "metadata": {},
   "outputs": [],
   "source": [
    "import requests\n",
    "import csv\n",
    "import time\n",
    "import os"
   ]
  },
  {
   "cell_type": "code",
   "execution_count": 2,
   "id": "ac86b6c7",
   "metadata": {},
   "outputs": [
    {
     "data": {
      "text/plain": [
       "True"
      ]
     },
     "execution_count": 2,
     "metadata": {},
     "output_type": "execute_result"
    }
   ],
   "source": [
    "from dotenv import load_dotenv\n",
    "load_dotenv()"
   ]
  },
  {
   "cell_type": "code",
   "execution_count": null,
   "id": "dd790f21",
   "metadata": {},
   "outputs": [],
   "source": [
    "# 네이버 검색 API 설정\n",
    "CLIENT_ID = os.environ.get(\"CLIENT_ID\")\n",
    "CLIENT_SECRET = os.environ.get(\"CLIENT_SECRET\")\n",
    "BASE_URL = 'https://openapi.naver.com/v1/search/news.json'\n",
    "\n",
    "# 검색 파라미터\n",
    "results_per_request = 100   # 한 번 요청당 가져올 최대 기사 수 (최대 100)\n",
    "max_results_per_year = 1000 # 연도별 최대 기사 수\n",
    "\n",
    "# 검색 키워드 리스트\n",
    "keywords = [\n",
    "    \"금융 사기\", \"보이스피싱\", \"스미싱\", \"파밍\", \"대출 사기\",\n",
    "    \"카드 사기\", \"인터넷 사기\", \"은행 사기\", \"사이버 금융사기\",\n",
    "    \"피싱 사기\", \"불법 대출\", \"신용카드 도용\", \"계좌 도용\",\n",
    "    \"주식 사기\", \"가상화폐 사기\", \"코인 사기\", \"투자 사기\",\n",
    "    \"폰지 사기\", \"불법 투자 권유\", \"금융 사기 범죄\",\"전자 금융 사기\"\n",
    "]\n",
    "\n",
    "\n",
    "# 결과 저장 리스트\n",
    "articles = []"
   ]
  },
  {
   "cell_type": "code",
   "execution_count": null,
   "id": "5a41c986",
   "metadata": {},
   "outputs": [],
   "source": [
    "def get_news(query, start, year):\n",
    "    \"\"\"네이버 검색 API를 사용하여 뉴스 데이터 가져오기\"\"\"\n",
    "    headers = {\n",
    "        'X-Naver-Client-Id': CLIENT_ID,\n",
    "        'X-Naver-Client-Secret': CLIENT_SECRET\n",
    "    }\n",
    "    params = {\n",
    "        'query': f\"{query}\",\n",
    "        'display': results_per_request,\n",
    "        'start': start,\n",
    "        'sort': 'date'\n",
    "    }\n",
    "    response = requests.get(BASE_URL, headers=headers, params=params)\n",
    "\n",
    "    if response.status_code == 200:\n",
    "        return response.json()\n",
    "    else:\n",
    "        print(f\"Error {response.status_code}: {response.text}\")\n",
    "        return None"
   ]
  },
  {
   "cell_type": "code",
   "execution_count": null,
   "id": "56a25086",
   "metadata": {},
   "outputs": [
    {
     "name": "stdout",
     "output_type": "stream",
     "text": [
      "[2025] 키워드 '금융 사기'로 데이터 수집 시작...\n",
      "[2025] 키워드 '보이스피싱'로 데이터 수집 시작...\n",
      "[2025] 키워드 '스미싱'로 데이터 수집 시작...\n",
      "[2025] 키워드 '파밍'로 데이터 수집 시작...\n",
      "[2025] 키워드 '대출 사기'로 데이터 수집 시작...\n",
      "[2025] 키워드 '카드 사기'로 데이터 수집 시작...\n",
      "[2025] 키워드 '인터넷 사기'로 데이터 수집 시작...\n",
      "[2025] 키워드 '은행 사기'로 데이터 수집 시작...\n",
      "[2025] 키워드 '사이버 금융사기'로 데이터 수집 시작...\n",
      "[2025] 키워드 '피싱 사기'로 데이터 수집 시작...\n",
      "[2025] 키워드 '불법 대출'로 데이터 수집 시작...\n",
      "[2025] 키워드 '신용카드 도용'로 데이터 수집 시작...\n",
      "[2025] 키워드 '계좌 도용'로 데이터 수집 시작...\n",
      "[2025] 키워드 '주식 사기'로 데이터 수집 시작...\n",
      "[2025] 키워드 '가상화폐 사기'로 데이터 수집 시작...\n",
      "[2025] 키워드 '코인 사기'로 데이터 수집 시작...\n",
      "[2025] 키워드 '투자 사기'로 데이터 수집 시작...\n",
      "[2025] 키워드 '폰지 사기'로 데이터 수집 시작...\n",
      "[2025] 키워드 '불법 투자 권유'로 데이터 수집 시작...\n",
      "[2025] 키워드 '금융 사기 범죄'로 데이터 수집 시작...\n",
      "[2025] 키워드 '전자 금융 사기'로 데이터 수집 시작...\n"
     ]
    }
   ],
   "source": [
    "# 데이터 수집\n",
    "for keyword in keywords:\n",
    "    print(f\"[{year}] 키워드 '{keyword}'로 데이터 수집 시작...\")\n",
    "    for start in range(1, max_results_per_year + 1, results_per_request):\n",
    "        data = get_news(keyword, start, year)\n",
    "        if data and 'items' in data:\n",
    "            for item in data['items']:\n",
    "                articles.append({\n",
    "                    \"keyword\": keyword,\n",
    "                    \"title\": item['title'],\n",
    "                    \"link\": item['link'],\n",
    "                    \"description\": item['description'],\n",
    "                    \"pubDate\": item['pubDate']\n",
    "                })\n",
    "        else:\n",
    "            break  # 더 이상 결과가 없으면 중단\n",
    "\n",
    "        time.sleep(0.1)"
   ]
  },
  {
   "cell_type": "code",
   "execution_count": null,
   "id": "b08c780d",
   "metadata": {},
   "outputs": [
    {
     "data": {
      "text/plain": [
       "15150"
      ]
     },
     "execution_count": 39,
     "metadata": {},
     "output_type": "execute_result"
    }
   ],
   "source": [
    "cnt = len(articles)"
   ]
  },
  {
   "cell_type": "code",
   "execution_count": null,
   "id": "8fdd09e9",
   "metadata": {},
   "outputs": [
    {
     "name": "stdout",
     "output_type": "stream",
     "text": [
      "크롤링 완료: 15150개의 기사를 2025_fraud_news.csv에 저장했습니다.\n"
     ]
    }
   ],
   "source": [
    "# 데이터 저장\n",
    "output_file = f'data/{cnt}_fraud_news.csv'\n",
    "\n",
    "with open(output_file, mode='w', encoding='utf-8-sig', newline='') as file:\n",
    "    writer = csv.DictWriter(file, fieldnames=[\"year\", \"keyword\", \"title\", \"link\", \"description\", \"pubDate\"])\n",
    "    writer.writeheader()\n",
    "    writer.writerows(articles)\n",
    "\n",
    "print(f\"크롤링 완료: {len(articles)}개의 기사를 {output_file}에 저장했습니다.\")"
   ]
  },
  {
   "cell_type": "markdown",
   "id": "85461d62",
   "metadata": {},
   "source": [
    "- 수집 데이터 확인"
   ]
  },
  {
   "cell_type": "code",
   "execution_count": 12,
   "id": "2b3c59d1",
   "metadata": {},
   "outputs": [
    {
     "data": {
      "text/html": [
       "<div>\n",
       "<style scoped>\n",
       "    .dataframe tbody tr th:only-of-type {\n",
       "        vertical-align: middle;\n",
       "    }\n",
       "\n",
       "    .dataframe tbody tr th {\n",
       "        vertical-align: top;\n",
       "    }\n",
       "\n",
       "    .dataframe thead th {\n",
       "        text-align: right;\n",
       "    }\n",
       "</style>\n",
       "<table border=\"1\" class=\"dataframe\">\n",
       "  <thead>\n",
       "    <tr style=\"text-align: right;\">\n",
       "      <th></th>\n",
       "      <th>year</th>\n",
       "      <th>keyword</th>\n",
       "      <th>title</th>\n",
       "      <th>link</th>\n",
       "      <th>description</th>\n",
       "      <th>pubDate</th>\n",
       "    </tr>\n",
       "  </thead>\n",
       "  <tbody>\n",
       "    <tr>\n",
       "      <th>0</th>\n",
       "      <td>2025</td>\n",
       "      <td>금융 사기</td>\n",
       "      <td>[브리프] 국민은행 신한은행 우리은행 농협은행 기업은행 外</td>\n",
       "      <td>http://www.biztribune.co.kr/news/articleView.h...</td>\n",
       "      <td>각종 &lt;b&gt;금융&lt;/b&gt;사고와 &lt;b&gt;사기&lt;/b&gt;위험으로부터 스마트폰을 안전하게 보호할...</td>\n",
       "      <td>Thu, 17 Apr 2025 17:54:00 +0900</td>\n",
       "    </tr>\n",
       "    <tr>\n",
       "      <th>1</th>\n",
       "      <td>2025</td>\n",
       "      <td>금융 사기</td>\n",
       "      <td>하나&lt;b&gt;금융&lt;/b&gt;, 발달장애 미술 공모전 '제4회 하나 아트버스' 시상식…NH농...</td>\n",
       "      <td>http://www.sisaon.co.kr/news/articleView.html?...</td>\n",
       "      <td>BUSAN &lt;b&gt;2025&lt;/b&gt;'에도 전시될 예정이다. 박현주 NH농협은행 WM사업...</td>\n",
       "      <td>Thu, 17 Apr 2025 15:58:00 +0900</td>\n",
       "    </tr>\n",
       "    <tr>\n",
       "      <th>2</th>\n",
       "      <td>2025</td>\n",
       "      <td>금융 사기</td>\n",
       "      <td>[Who Is ?] 최병채 인카&lt;b&gt;금융&lt;/b&gt;서비스 대표이사 회장</td>\n",
       "      <td>https://www.businesspost.co.kr/BP?command=arti...</td>\n",
       "      <td>&lt;b&gt;2025&lt;/b&gt;년 4월 &lt;b&gt;금융&lt;/b&gt;권에 따르면, 금감원 보험&lt;b&gt;사기&lt;/...</td>\n",
       "      <td>Thu, 17 Apr 2025 08:34:00 +0900</td>\n",
       "    </tr>\n",
       "    <tr>\n",
       "      <th>3</th>\n",
       "      <td>2025</td>\n",
       "      <td>금융 사기</td>\n",
       "      <td>내수침체 그림자 짙어져…‘재정정책 정상화’로 활력 불어 넣어야</td>\n",
       "      <td>https://n.news.naver.com/mnews/article/028/000...</td>\n",
       "      <td>&lt;b&gt;2025&lt;/b&gt;년 예산안도 증가율을 3.2%로 억제했다. 경기가 나쁠 때일수록...</td>\n",
       "      <td>Thu, 17 Apr 2025 06:02:00 +0900</td>\n",
       "    </tr>\n",
       "    <tr>\n",
       "      <th>4</th>\n",
       "      <td>2025</td>\n",
       "      <td>금융 사기</td>\n",
       "      <td>모임통장-공항 스마트패스… 고객친화 &lt;b&gt;금융&lt;/b&gt; 플랫폼</td>\n",
       "      <td>https://n.news.naver.com/mnews/article/020/000...</td>\n",
       "      <td>㈜신한은행의 신한 SOL뱅크가 ‘&lt;b&gt;2025&lt;/b&gt; 국가산업대상’ 모바일뱅킹 부문...</td>\n",
       "      <td>Thu, 17 Apr 2025 03:05:00 +0900</td>\n",
       "    </tr>\n",
       "  </tbody>\n",
       "</table>\n",
       "</div>"
      ],
      "text/plain": [
       "   year keyword                                              title  \\\n",
       "0  2025   금융 사기                   [브리프] 국민은행 신한은행 우리은행 농협은행 기업은행 外   \n",
       "1  2025   금융 사기  하나<b>금융</b>, 발달장애 미술 공모전 '제4회 하나 아트버스' 시상식…NH농...   \n",
       "2  2025   금융 사기              [Who Is ?] 최병채 인카<b>금융</b>서비스 대표이사 회장   \n",
       "3  2025   금융 사기                 내수침체 그림자 짙어져…‘재정정책 정상화’로 활력 불어 넣어야   \n",
       "4  2025   금융 사기                  모임통장-공항 스마트패스… 고객친화 <b>금융</b> 플랫폼   \n",
       "\n",
       "                                                link  \\\n",
       "0  http://www.biztribune.co.kr/news/articleView.h...   \n",
       "1  http://www.sisaon.co.kr/news/articleView.html?...   \n",
       "2  https://www.businesspost.co.kr/BP?command=arti...   \n",
       "3  https://n.news.naver.com/mnews/article/028/000...   \n",
       "4  https://n.news.naver.com/mnews/article/020/000...   \n",
       "\n",
       "                                         description  \\\n",
       "0  각종 <b>금융</b>사고와 <b>사기</b>위험으로부터 스마트폰을 안전하게 보호할...   \n",
       "1  BUSAN <b>2025</b>'에도 전시될 예정이다. 박현주 NH농협은행 WM사업...   \n",
       "2  <b>2025</b>년 4월 <b>금융</b>권에 따르면, 금감원 보험<b>사기</...   \n",
       "3  <b>2025</b>년 예산안도 증가율을 3.2%로 억제했다. 경기가 나쁠 때일수록...   \n",
       "4  ㈜신한은행의 신한 SOL뱅크가 ‘<b>2025</b> 국가산업대상’ 모바일뱅킹 부문...   \n",
       "\n",
       "                           pubDate  \n",
       "0  Thu, 17 Apr 2025 17:54:00 +0900  \n",
       "1  Thu, 17 Apr 2025 15:58:00 +0900  \n",
       "2  Thu, 17 Apr 2025 08:34:00 +0900  \n",
       "3  Thu, 17 Apr 2025 06:02:00 +0900  \n",
       "4  Thu, 17 Apr 2025 03:05:00 +0900  "
      ]
     },
     "execution_count": 12,
     "metadata": {},
     "output_type": "execute_result"
    }
   ],
   "source": [
    "import pandas as pd\n",
    "df = pd.read_csv(output_file)\n",
    "df.head()"
   ]
  },
  {
   "cell_type": "code",
   "execution_count": 13,
   "id": "03435337",
   "metadata": {},
   "outputs": [
    {
     "data": {
      "text/html": [
       "<div>\n",
       "<style scoped>\n",
       "    .dataframe tbody tr th:only-of-type {\n",
       "        vertical-align: middle;\n",
       "    }\n",
       "\n",
       "    .dataframe tbody tr th {\n",
       "        vertical-align: top;\n",
       "    }\n",
       "\n",
       "    .dataframe thead th {\n",
       "        text-align: right;\n",
       "    }\n",
       "</style>\n",
       "<table border=\"1\" class=\"dataframe\">\n",
       "  <thead>\n",
       "    <tr style=\"text-align: right;\">\n",
       "      <th></th>\n",
       "      <th>year</th>\n",
       "      <th>keyword</th>\n",
       "      <th>title</th>\n",
       "      <th>link</th>\n",
       "      <th>description</th>\n",
       "      <th>pubDate</th>\n",
       "    </tr>\n",
       "  </thead>\n",
       "  <tbody>\n",
       "    <tr>\n",
       "      <th>15145</th>\n",
       "      <td>2025</td>\n",
       "      <td>전자 금융 사기</td>\n",
       "      <td>SKT, 꿈의 보안으로 불리는 ‘양자암호통신’ 올해말 상용화</td>\n",
       "      <td>http://www.breaknews.com/sub_read.html?uid=506...</td>\n",
       "      <td>시 &lt;b&gt;금융 사기&lt;/b&gt; 등을 주의할 필요성이 항상 존재한다. 그러나 양자암호 보...</td>\n",
       "      <td>Fri, 28 Apr 2017 15:01:00 +0900</td>\n",
       "    </tr>\n",
       "    <tr>\n",
       "      <th>15146</th>\n",
       "      <td>2025</td>\n",
       "      <td>전자 금융 사기</td>\n",
       "      <td>&amp;quot;모바일 성장 덕에… 10년 내 신흥국 &lt;b&gt;금융&lt;/b&gt; 서비스 이용자 1...</td>\n",
       "      <td>https://n.news.naver.com/mnews/article/018/000...</td>\n",
       "      <td>또한 인도는 2010년부터 생체인식 신분증 발급 프로젝트 ‘아드하르(aadhaar)...</td>\n",
       "      <td>Thu, 22 Sep 2016 17:14:00 +0900</td>\n",
       "    </tr>\n",
       "    <tr>\n",
       "      <th>15147</th>\n",
       "      <td>2025</td>\n",
       "      <td>전자 금융 사기</td>\n",
       "      <td>[곽노필의 미래창]인공지능의 두 얼굴, 구원일까 위협일까</td>\n",
       "      <td>https://n.news.naver.com/mnews/article/028/000...</td>\n",
       "      <td>&lt;b&gt;전자&lt;/b&gt;의 대표적인 주창자는 구글에서 인공지능 개발을 책임지고 있는 레이 ...</td>\n",
       "      <td>Mon, 12 Sep 2016 10:45:00 +0900</td>\n",
       "    </tr>\n",
       "    <tr>\n",
       "      <th>15148</th>\n",
       "      <td>2025</td>\n",
       "      <td>전자 금융 사기</td>\n",
       "      <td>[이슈분석]은행, 핀테크 기업 출자 길 열린다…융합신산업 규제장벽 낮...</td>\n",
       "      <td>https://n.news.naver.com/mnews/article/030/000...</td>\n",
       "      <td>출자 가능한 핀테크 업종은 △&lt;b&gt;전자금융&lt;/b&gt;업(&lt;b&gt;전자&lt;/b&gt;지급결제대행, ...</td>\n",
       "      <td>Wed, 06 May 2015 15:21:00 +0900</td>\n",
       "    </tr>\n",
       "    <tr>\n",
       "      <th>15149</th>\n",
       "      <td>2025</td>\n",
       "      <td>전자 금융 사기</td>\n",
       "      <td>[미리보는 조간경제지]STX 지주회사도 살린다 外</td>\n",
       "      <td>http://www.etoday.co.kr/news/section/newsview....</td>\n",
       "      <td>멈추면 &lt;b&gt;금융사기&lt;/b&gt; 의심 -PB센터 부자들은 지금 세무조사중 △기업·증권 ...</td>\n",
       "      <td>Mon, 19 Aug 2013 20:15:00 +0900</td>\n",
       "    </tr>\n",
       "  </tbody>\n",
       "</table>\n",
       "</div>"
      ],
      "text/plain": [
       "       year   keyword                                              title  \\\n",
       "15145  2025  전자 금융 사기                  SKT, 꿈의 보안으로 불리는 ‘양자암호통신’ 올해말 상용화   \n",
       "15146  2025  전자 금융 사기  &quot;모바일 성장 덕에… 10년 내 신흥국 <b>금융</b> 서비스 이용자 1...   \n",
       "15147  2025  전자 금융 사기                    [곽노필의 미래창]인공지능의 두 얼굴, 구원일까 위협일까   \n",
       "15148  2025  전자 금융 사기          [이슈분석]은행, 핀테크 기업 출자 길 열린다…융합신산업 규제장벽 낮...   \n",
       "15149  2025  전자 금융 사기                        [미리보는 조간경제지]STX 지주회사도 살린다 外   \n",
       "\n",
       "                                                    link  \\\n",
       "15145  http://www.breaknews.com/sub_read.html?uid=506...   \n",
       "15146  https://n.news.naver.com/mnews/article/018/000...   \n",
       "15147  https://n.news.naver.com/mnews/article/028/000...   \n",
       "15148  https://n.news.naver.com/mnews/article/030/000...   \n",
       "15149  http://www.etoday.co.kr/news/section/newsview....   \n",
       "\n",
       "                                             description  \\\n",
       "15145  시 <b>금융 사기</b> 등을 주의할 필요성이 항상 존재한다. 그러나 양자암호 보...   \n",
       "15146  또한 인도는 2010년부터 생체인식 신분증 발급 프로젝트 ‘아드하르(aadhaar)...   \n",
       "15147  <b>전자</b>의 대표적인 주창자는 구글에서 인공지능 개발을 책임지고 있는 레이 ...   \n",
       "15148  출자 가능한 핀테크 업종은 △<b>전자금융</b>업(<b>전자</b>지급결제대행, ...   \n",
       "15149  멈추면 <b>금융사기</b> 의심 -PB센터 부자들은 지금 세무조사중 △기업·증권 ...   \n",
       "\n",
       "                               pubDate  \n",
       "15145  Fri, 28 Apr 2017 15:01:00 +0900  \n",
       "15146  Thu, 22 Sep 2016 17:14:00 +0900  \n",
       "15147  Mon, 12 Sep 2016 10:45:00 +0900  \n",
       "15148  Wed, 06 May 2015 15:21:00 +0900  \n",
       "15149  Mon, 19 Aug 2013 20:15:00 +0900  "
      ]
     },
     "execution_count": 13,
     "metadata": {},
     "output_type": "execute_result"
    }
   ],
   "source": [
    "df.tail()"
   ]
  }
 ],
 "metadata": {
  "kernelspec": {
   "display_name": "venv",
   "language": "python",
   "name": "python3"
  },
  "language_info": {
   "codemirror_mode": {
    "name": "ipython",
    "version": 3
   },
   "file_extension": ".py",
   "mimetype": "text/x-python",
   "name": "python",
   "nbconvert_exporter": "python",
   "pygments_lexer": "ipython3",
   "version": "3.11.9"
  }
 },
 "nbformat": 4,
 "nbformat_minor": 5
}
